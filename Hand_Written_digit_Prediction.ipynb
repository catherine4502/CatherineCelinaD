{
  "nbformat": 4,
  "nbformat_minor": 0,
  "metadata": {
    "colab": {
      "provenance": [],
      "authorship_tag": "ABX9TyNBvJJQriTzn9HFKaiPypPX",
      "include_colab_link": true
    },
    "kernelspec": {
      "name": "python3",
      "display_name": "Python 3"
    },
    "language_info": {
      "name": "python"
    }
  },
  "cells": [
    {
      "cell_type": "markdown",
      "metadata": {
        "id": "view-in-github",
        "colab_type": "text"
      },
      "source": [
        "<a href=\"https://colab.research.google.com/github/catherine4502/CatherineCelinaD/blob/main/Hand_Written_digit_Prediction.ipynb\" target=\"_parent\"><img src=\"https://colab.research.google.com/assets/colab-badge.svg\" alt=\"Open In Colab\"/></a>"
      ]
    },
    {
      "cell_type": "code",
      "execution_count": null,
      "metadata": {
        "id": "swQZ17YJ0SuS"
      },
      "outputs": [],
      "source": [
        "import pandas as pd\n",
        "import numpy as np\n",
        "import matplotlib.pyplot as plt"
      ]
    },
    {
      "cell_type": "code",
      "source": [
        "from sklearn.datasets import load_digits"
      ],
      "metadata": {
        "id": "Ao9de7BF0mdR"
      },
      "execution_count": null,
      "outputs": []
    },
    {
      "cell_type": "code",
      "source": [
        "hd=load_digits()"
      ],
      "metadata": {
        "id": "OXM2Ms3S0z_u"
      },
      "execution_count": null,
      "outputs": []
    },
    {
      "cell_type": "code",
      "source": [
        "_, axes = plt.subplots(nrows=1, ncols=4, figsize=(10,3))\n",
        "for ax, image, label in zip(axes, df.images, df.target):\n",
        "  ax.set_axis_off()\n",
        "  ax.imshow(image, cmap=plt.cm.gray_r, interpolation=\"nearest\")\n",
        "  ax.set_title(\"Training: %i\" % label)"
      ],
      "metadata": {
        "colab": {
          "base_uri": "https://localhost:8080/",
          "height": 227
        },
        "id": "vPZpoCzB1Afu",
        "outputId": "72c6517e-1f7a-4bba-d90f-d14c5e0379e0"
      },
      "execution_count": null,
      "outputs": [
        {
          "output_type": "display_data",
          "data": {
            "text/plain": [
              "<Figure size 1000x300 with 4 Axes>"
            ],
            "image/png": "[encoded data removed]"
          },
          "metadata": {}
        }
      ]
    },
    {
      "cell_type": "code",
      "source": [
        "hd.images.shape"
      ],
      "metadata": {
        "colab": {
          "base_uri": "https://localhost:8080/"
        },
        "id": "11USAho42D8N",
        "outputId": "7e5dbbc9-8157-45a8-9c11-21752238311f"
      },
      "execution_count": null,
      "outputs": [
        {
          "output_type": "execute_result",
          "data": {
            "text/plain": [
              "(1797, 8, 8)"
            ]
          },
          "metadata": {},
          "execution_count": 11
        }
      ]
    },
    {
      "cell_type": "code",
      "source": [
        "hd.images[0]"
      ],
      "metadata": {
        "colab": {
          "base_uri": "https://localhost:8080/"
        },
        "id": "bVgSY0XN2UbM",
        "outputId": "05bde841-ba17-48ed-8eca-8117f4bfbba3"
      },
      "execution_count": null,
      "outputs": [
        {
          "output_type": "execute_result",
          "data": {
            "text/plain": [
              "array([[ 0.,  0.,  5., 13.,  9.,  1.,  0.,  0.],\n",
              "       [ 0.,  0., 13., 15., 10., 15.,  5.,  0.],\n",
              "       [ 0.,  3., 15.,  2.,  0., 11.,  8.,  0.],\n",
              "       [ 0.,  4., 12.,  0.,  0.,  8.,  8.,  0.],\n",
              "       [ 0.,  5.,  8.,  0.,  0.,  9.,  8.,  0.],\n",
              "       [ 0.,  4., 11.,  0.,  1., 12.,  7.,  0.],\n",
              "       [ 0.,  2., 14.,  5., 10., 12.,  0.,  0.],\n",
              "       [ 0.,  0.,  6., 13., 10.,  0.,  0.,  0.]])"
            ]
          },
          "metadata": {},
          "execution_count": 12
        }
      ]
    },
    {
      "cell_type": "code",
      "source": [
        "hd.images[0].shape"
      ],
      "metadata": {
        "colab": {
          "base_uri": "https://localhost:8080/"
        },
        "id": "3rloPFCd2Wnf",
        "outputId": "77ff99e7-cc30-4c17-e4f5-0b0df4d61425"
      },
      "execution_count": null,
      "outputs": [
        {
          "output_type": "execute_result",
          "data": {
            "text/plain": [
              "(8, 8)"
            ]
          },
          "metadata": {},
          "execution_count": 13
        }
      ]
    },
    {
      "cell_type": "code",
      "source": [
        "len(hd.images)"
      ],
      "metadata": {
        "colab": {
          "base_uri": "https://localhost:8080/"
        },
        "id": "3-t8T64e2dqJ",
        "outputId": "8c8ea602-9cc5-4a0d-ff38-fd236df9cf64"
      },
      "execution_count": null,
      "outputs": [
        {
          "output_type": "execute_result",
          "data": {
            "text/plain": [
              "1797"
            ]
          },
          "metadata": {},
          "execution_count": 14
        }
      ]
    },
    {
      "cell_type": "code",
      "source": [
        "n_samples = len(hd.images)\n",
        "data= hd.images.reshape((n_samples, -1))"
      ],
      "metadata": {
        "id": "qJXGDxyU2fqD"
      },
      "execution_count": null,
      "outputs": []
    },
    {
      "cell_type": "code",
      "source": [
        "data[0]"
      ],
      "metadata": {
        "colab": {
          "base_uri": "https://localhost:8080/"
        },
        "id": "ZxkGA4eB2p-f",
        "outputId": "ffbd86b0-2d2c-4bcc-fce9-d110897e572a"
      },
      "execution_count": null,
      "outputs": [
        {
          "output_type": "execute_result",
          "data": {
            "text/plain": [
              "array([ 0.,  0.,  5., 13.,  9.,  1.,  0.,  0.,  0.,  0., 13., 15., 10.,\n",
              "       15.,  5.,  0.,  0.,  3., 15.,  2.,  0., 11.,  8.,  0.,  0.,  4.,\n",
              "       12.,  0.,  0.,  8.,  8.,  0.,  0.,  5.,  8.,  0.,  0.,  9.,  8.,\n",
              "        0.,  0.,  4., 11.,  0.,  1., 12.,  7.,  0.,  0.,  2., 14.,  5.,\n",
              "       10., 12.,  0.,  0.,  0.,  0.,  6., 13., 10.,  0.,  0.,  0.])"
            ]
          },
          "metadata": {},
          "execution_count": 16
        }
      ]
    },
    {
      "cell_type": "code",
      "source": [
        "data[0].shape"
      ],
      "metadata": {
        "colab": {
          "base_uri": "https://localhost:8080/"
        },
        "id": "9zkd60qg2rbw",
        "outputId": "a4f77a8a-b41b-4272-8ad8-30b3ff11c948"
      },
      "execution_count": null,
      "outputs": [
        {
          "output_type": "execute_result",
          "data": {
            "text/plain": [
              "(64,)"
            ]
          },
          "metadata": {},
          "execution_count": 17
        }
      ]
    },
    {
      "cell_type": "code",
      "source": [
        "data.shape"
      ],
      "metadata": {
        "colab": {
          "base_uri": "https://localhost:8080/"
        },
        "id": "ATnOXcgF2zPD",
        "outputId": "51018bd1-7894-4a3f-a4c3-f5a871e5af86"
      },
      "execution_count": null,
      "outputs": [
        {
          "output_type": "execute_result",
          "data": {
            "text/plain": [
              "(1797, 64)"
            ]
          },
          "metadata": {},
          "execution_count": 18
        }
      ]
    },
    {
      "cell_type": "markdown",
      "source": [
        "Scaling image data\n"
      ],
      "metadata": {
        "id": "4TdFZzP721SD"
      }
    },
    {
      "cell_type": "code",
      "source": [
        "data.min()"
      ],
      "metadata": {
        "colab": {
          "base_uri": "https://localhost:8080/"
        },
        "id": "zvOI4W2826PC",
        "outputId": "77c9272c-25d9-46af-ea43-be1214b84958"
      },
      "execution_count": null,
      "outputs": [
        {
          "output_type": "execute_result",
          "data": {
            "text/plain": [
              "0.0"
            ]
          },
          "metadata": {},
          "execution_count": 19
        }
      ]
    },
    {
      "cell_type": "code",
      "source": [
        "data.max()"
      ],
      "metadata": {
        "colab": {
          "base_uri": "https://localhost:8080/"
        },
        "id": "OYMHbqmd28Y0",
        "outputId": "e52d011a-011b-4d38-d488-d20069426ed4"
      },
      "execution_count": null,
      "outputs": [
        {
          "output_type": "execute_result",
          "data": {
            "text/plain": [
              "16.0"
            ]
          },
          "metadata": {},
          "execution_count": 20
        }
      ]
    },
    {
      "cell_type": "code",
      "source": [
        "data=data/16"
      ],
      "metadata": {
        "id": "pZ0_z9DF2_Yu"
      },
      "execution_count": null,
      "outputs": []
    },
    {
      "cell_type": "code",
      "source": [
        "data.max()\n"
      ],
      "metadata": {
        "colab": {
          "base_uri": "https://localhost:8080/"
        },
        "id": "9B5NLthY3CEq",
        "outputId": "d35cb5f2-13e9-4326-e316-eaac663d6032"
      },
      "execution_count": null,
      "outputs": [
        {
          "output_type": "execute_result",
          "data": {
            "text/plain": [
              "1.0"
            ]
          },
          "metadata": {},
          "execution_count": 22
        }
      ]
    },
    {
      "cell_type": "code",
      "source": [
        "data[0]"
      ],
      "metadata": {
        "colab": {
          "base_uri": "https://localhost:8080/"
        },
        "id": "d-0aQYeC3HNe",
        "outputId": "489b4da6-efc2-44d2-9da9-4e52ed5819c5"
      },
      "execution_count": null,
      "outputs": [
        {
          "output_type": "execute_result",
          "data": {
            "text/plain": [
              "array([0.    , 0.    , 0.3125, 0.8125, 0.5625, 0.0625, 0.    , 0.    ,\n",
              "       0.    , 0.    , 0.8125, 0.9375, 0.625 , 0.9375, 0.3125, 0.    ,\n",
              "       0.    , 0.1875, 0.9375, 0.125 , 0.    , 0.6875, 0.5   , 0.    ,\n",
              "       0.    , 0.25  , 0.75  , 0.    , 0.    , 0.5   , 0.5   , 0.    ,\n",
              "       0.    , 0.3125, 0.5   , 0.    , 0.    , 0.5625, 0.5   , 0.    ,\n",
              "       0.    , 0.25  , 0.6875, 0.    , 0.0625, 0.75  , 0.4375, 0.    ,\n",
              "       0.    , 0.125 , 0.875 , 0.3125, 0.625 , 0.75  , 0.    , 0.    ,\n",
              "       0.    , 0.    , 0.375 , 0.8125, 0.625 , 0.    , 0.    , 0.    ])"
            ]
          },
          "metadata": {},
          "execution_count": 23
        }
      ]
    },
    {
      "cell_type": "markdown",
      "source": [
        "Train Test split data"
      ],
      "metadata": {
        "id": "mycix1683Rdq"
      }
    },
    {
      "cell_type": "code",
      "source": [
        "from sklearn.model_selection import train_test_split\n",
        "X_train,X_test,y_train,y_test = train_test_split(data, hd.target,test_size=0.3)\n",
        "X_train.shape,X_test.shape,y_train.shape,y_test.shape\n"
      ],
      "metadata": {
        "colab": {
          "base_uri": "https://localhost:8080/"
        },
        "id": "qe2Jo08_3YpQ",
        "outputId": "454d50cf-91f3-42c9-b841-c83956e381a9"
      },
      "execution_count": null,
      "outputs": [
        {
          "output_type": "execute_result",
          "data": {
            "text/plain": [
              "((1257, 64), (540, 64), (1257,), (540,))"
            ]
          },
          "metadata": {},
          "execution_count": 25
        }
      ]
    },
    {
      "cell_type": "markdown",
      "source": [
        "Random Forest model"
      ],
      "metadata": {
        "id": "btgdvj3r357D"
      }
    },
    {
      "cell_type": "code",
      "source": [
        "from sklearn.ensemble import RandomForestClassifier\n",
        "rf=RandomForestClassifier()\n",
        "rf.fit(X_train, y_train)\n"
      ],
      "metadata": {
        "colab": {
          "base_uri": "https://localhost:8080/",
          "height": 74
        },
        "id": "t02O1UJV376q",
        "outputId": "a431adf8-a126-4168-d6db-ca3678e960b8"
      },
      "execution_count": null,
      "outputs": [
        {
          "output_type": "execute_result",
          "data": {
            "text/plain": [
              "RandomForestClassifier()"
            ],
            "text/html": [
              "<style>#sk-container-id-1 {color: black;}#sk-container-id-1 pre{padding: 0;}#sk-container-id-1 div.sk-toggleable {background-color: white;}#sk-container-id-1 label.sk-toggleable__label {cursor: pointer;display: block;width: 100%;margin-bottom: 0;padding: 0.3em;box-sizing: border-box;text-align: center;}#sk-container-id-1 label.sk-toggleable__label-arrow:before {content: \"▸\";float: left;margin-right: 0.25em;color: #696969;}#sk-container-id-1 label.sk-toggleable__label-arrow:hover:before {color: black;}#sk-container-id-1 div.sk-estimator:hover label.sk-toggleable__label-arrow:before {color: black;}#sk-container-id-1 div.sk-toggleable__content {max-height: 0;max-width: 0;overflow: hidden;text-align: left;background-color: #f0f8ff;}#sk-container-id-1 div.sk-toggleable__content pre {margin: 0.2em;color: black;border-radius: 0.25em;background-color: #f0f8ff;}#sk-container-id-1 input.sk-toggleable__control:checked~div.sk-toggleable__content {max-height: 200px;max-width: 100%;overflow: auto;}#sk-container-id-1 input.sk-toggleable__control:checked~label.sk-toggleable__label-arrow:before {content: \"▾\";}#sk-container-id-1 div.sk-estimator input.sk-toggleable__control:checked~label.sk-toggleable__label {background-color: #d4ebff;}#sk-container-id-1 div.sk-label input.sk-toggleable__control:checked~label.sk-toggleable__label {background-color: #d4ebff;}#sk-container-id-1 input.sk-hidden--visually {border: 0;clip: rect(1px 1px 1px 1px);clip: rect(1px, 1px, 1px, 1px);height: 1px;margin: -1px;overflow: hidden;padding: 0;position: absolute;width: 1px;}#sk-container-id-1 div.sk-estimator {font-family: monospace;background-color: #f0f8ff;border: 1px dotted black;border-radius: 0.25em;box-sizing: border-box;margin-bottom: 0.5em;}#sk-container-id-1 div.sk-estimator:hover {background-color: #d4ebff;}#sk-container-id-1 div.sk-parallel-item::after {content: \"\";width: 100%;border-bottom: 1px solid gray;flex-grow: 1;}#sk-container-id-1 div.sk-label:hover label.sk-toggleable__label {background-color: #d4ebff;}#sk-container-id-1 div.sk-serial::before {content: \"\";position: absolute;border-left: 1px solid gray;box-sizing: border-box;top: 0;bottom: 0;left: 50%;z-index: 0;}#sk-container-id-1 div.sk-serial {display: flex;flex-direction: column;align-items: center;background-color: white;padding-right: 0.2em;padding-left: 0.2em;position: relative;}#sk-container-id-1 div.sk-item {position: relative;z-index: 1;}#sk-container-id-1 div.sk-parallel {display: flex;align-items: stretch;justify-content: center;background-color: white;position: relative;}#sk-container-id-1 div.sk-item::before, #sk-container-id-1 div.sk-parallel-item::before {content: \"\";position: absolute;border-left: 1px solid gray;box-sizing: border-box;top: 0;bottom: 0;left: 50%;z-index: -1;}#sk-container-id-1 div.sk-parallel-item {display: flex;flex-direction: column;z-index: 1;position: relative;background-color: white;}#sk-container-id-1 div.sk-parallel-item:first-child::after {align-self: flex-end;width: 50%;}#sk-container-id-1 div.sk-parallel-item:last-child::after {align-self: flex-start;width: 50%;}#sk-container-id-1 div.sk-parallel-item:only-child::after {width: 0;}#sk-container-id-1 div.sk-dashed-wrapped {border: 1px dashed gray;margin: 0 0.4em 0.5em 0.4em;box-sizing: border-box;padding-bottom: 0.4em;background-color: white;}#sk-container-id-1 div.sk-label label {font-family: monospace;font-weight: bold;display: inline-block;line-height: 1.2em;}#sk-container-id-1 div.sk-label-container {text-align: center;}#sk-container-id-1 div.sk-container {/* jupyter's `normalize.less` sets `[hidden] { display: none; }` but bootstrap.min.css set `[hidden] { display: none !important; }` so we also need the `!important` here to be able to override the default hidden behavior on the sphinx rendered scikit-learn.org. See: https://github.com/scikit-learn/scikit-learn/issues/21755 */display: inline-block !important;position: relative;}#sk-container-id-1 div.sk-text-repr-fallback {display: none;}</style><div id=\"sk-container-id-1\" class=\"sk-top-container\"><div class=\"sk-text-repr-fallback\"><pre>RandomForestClassifier()</pre><b>In a Jupyter environment, please rerun this cell to show the HTML representation or trust the notebook. <br />On GitHub, the HTML representation is unable to render, please try loading this page with nbviewer.org.</b></div><div class=\"sk-container\" hidden><div class=\"sk-item\"><div class=\"sk-estimator sk-toggleable\"><input class=\"sk-toggleable__control sk-hidden--visually\" id=\"sk-estimator-id-1\" type=\"checkbox\" checked><label for=\"sk-estimator-id-1\" class=\"sk-toggleable__label sk-toggleable__label-arrow\">RandomForestClassifier</label><div class=\"sk-toggleable__content\"><pre>RandomForestClassifier()</pre></div></div></div></div></div>"
            ]
          },
          "metadata": {},
          "execution_count": 28
        }
      ]
    },
    {
      "cell_type": "markdown",
      "source": [
        "Predict test data"
      ],
      "metadata": {
        "id": "NIWYTCfI4WND"
      }
    },
    {
      "cell_type": "code",
      "source": [
        "y_pred = rf.predict(X_test)"
      ],
      "metadata": {
        "id": "XOBtTGc84Ys9"
      },
      "execution_count": null,
      "outputs": []
    },
    {
      "cell_type": "code",
      "source": [
        "y_pred"
      ],
      "metadata": {
        "colab": {
          "base_uri": "https://localhost:8080/"
        },
        "id": "tSKnxY0q4d-k",
        "outputId": "dab569bb-658a-4929-e15c-023c969bcc62"
      },
      "execution_count": null,
      "outputs": [
        {
          "output_type": "execute_result",
          "data": {
            "text/plain": [
              "array([6, 9, 4, 7, 0, 2, 0, 1, 9, 5, 8, 3, 6, 1, 6, 7, 6, 3, 9, 7, 4, 1,\n",
              "       5, 0, 0, 4, 2, 1, 4, 4, 6, 8, 4, 5, 3, 9, 1, 2, 1, 8, 6, 9, 6, 1,\n",
              "       5, 7, 7, 5, 8, 2, 5, 1, 9, 6, 5, 7, 4, 5, 4, 0, 2, 7, 7, 5, 9, 2,\n",
              "       7, 2, 5, 6, 0, 6, 5, 8, 5, 3, 5, 5, 2, 4, 1, 7, 9, 7, 4, 4, 5, 9,\n",
              "       1, 5, 0, 6, 3, 8, 9, 5, 9, 8, 9, 9, 8, 6, 1, 0, 4, 5, 1, 2, 2, 3,\n",
              "       1, 9, 9, 9, 3, 0, 6, 2, 9, 3, 6, 2, 2, 6, 0, 2, 7, 5, 0, 9, 8, 2,\n",
              "       0, 6, 8, 0, 2, 8, 6, 2, 7, 3, 3, 7, 6, 5, 8, 0, 7, 1, 4, 1, 6, 4,\n",
              "       6, 6, 4, 7, 0, 6, 9, 6, 8, 3, 3, 6, 5, 9, 3, 2, 8, 1, 0, 2, 2, 9,\n",
              "       3, 6, 5, 6, 0, 9, 2, 7, 3, 0, 7, 4, 2, 0, 3, 5, 9, 6, 0, 4, 0, 9,\n",
              "       4, 6, 8, 5, 0, 0, 7, 9, 6, 3, 7, 0, 9, 6, 4, 1, 5, 5, 0, 7, 8, 8,\n",
              "       7, 7, 2, 5, 8, 3, 8, 1, 6, 7, 7, 8, 8, 3, 4, 6, 4, 8, 5, 7, 1, 1,\n",
              "       7, 2, 2, 4, 1, 4, 4, 6, 6, 7, 1, 3, 0, 0, 8, 6, 4, 8, 6, 0, 1, 1,\n",
              "       4, 5, 2, 0, 9, 9, 1, 9, 1, 8, 6, 8, 1, 3, 2, 5, 2, 2, 5, 0, 7, 4,\n",
              "       3, 8, 9, 1, 3, 1, 4, 2, 8, 9, 6, 9, 3, 7, 9, 1, 3, 4, 6, 3, 7, 8,\n",
              "       7, 3, 7, 6, 4, 6, 6, 0, 4, 4, 2, 4, 9, 0, 0, 7, 7, 9, 6, 6, 1, 8,\n",
              "       7, 2, 2, 9, 4, 7, 2, 5, 8, 9, 7, 5, 4, 0, 1, 4, 0, 4, 2, 3, 9, 1,\n",
              "       7, 3, 5, 0, 2, 8, 2, 8, 0, 5, 9, 8, 8, 9, 3, 2, 4, 5, 6, 5, 6, 2,\n",
              "       3, 2, 6, 2, 7, 0, 0, 2, 6, 9, 7, 1, 1, 1, 9, 0, 1, 1, 4, 7, 9, 1,\n",
              "       9, 8, 5, 1, 6, 4, 5, 4, 3, 9, 5, 7, 6, 8, 3, 2, 0, 7, 8, 2, 2, 8,\n",
              "       2, 4, 0, 8, 6, 3, 7, 9, 1, 9, 3, 4, 5, 4, 1, 9, 7, 4, 0, 1, 0, 9,\n",
              "       6, 9, 5, 7, 6, 2, 1, 4, 7, 9, 5, 4, 2, 5, 1, 4, 8, 4, 5, 4, 9, 7,\n",
              "       1, 2, 2, 3, 4, 8, 5, 1, 4, 5, 9, 6, 5, 9, 8, 2, 5, 7, 8, 5, 6, 8,\n",
              "       6, 9, 4, 5, 6, 9, 0, 7, 9, 4, 3, 0, 8, 1, 7, 3, 0, 0, 8, 8, 1, 3,\n",
              "       9, 9, 6, 4, 1, 8, 4, 1, 6, 9, 4, 5, 2, 2, 0, 2, 7, 1, 5, 7, 8, 7,\n",
              "       3, 5, 0, 6, 1, 1, 7, 3, 0, 3, 6, 8])"
            ]
          },
          "metadata": {},
          "execution_count": 30
        }
      ]
    },
    {
      "cell_type": "markdown",
      "source": [
        "Model Accuracy"
      ],
      "metadata": {
        "id": "mjvSSdPE4lkg"
      }
    },
    {
      "cell_type": "code",
      "source": [
        "from sklearn.metrics import confusion_matrix, classification_report"
      ],
      "metadata": {
        "id": "gwsiuxtQ4ojB"
      },
      "execution_count": null,
      "outputs": []
    },
    {
      "cell_type": "code",
      "source": [
        "confusion_matrix(y_test, y_pred)"
      ],
      "metadata": {
        "colab": {
          "base_uri": "https://localhost:8080/"
        },
        "id": "quO52oQ84v5U",
        "outputId": "e4fe4b38-8331-4563-9fe5-339577c624a9"
      },
      "execution_count": null,
      "outputs": [
        {
          "output_type": "execute_result",
          "data": {
            "text/plain": [
              "array([[51,  0,  0,  0,  1,  0,  0,  0,  0,  0],\n",
              "       [ 0, 51,  0,  0,  0,  0,  0,  0,  0,  0],\n",
              "       [ 0,  0, 54,  0,  0,  0,  0,  0,  0,  0],\n",
              "       [ 0,  0,  0, 41,  0,  0,  0,  0,  0,  0],\n",
              "       [ 0,  0,  0,  0, 55,  0,  0,  0,  0,  1],\n",
              "       [ 0,  0,  0,  0,  0, 53,  0,  0,  0,  0],\n",
              "       [ 0,  1,  0,  0,  0,  0, 61,  0,  0,  0],\n",
              "       [ 0,  0,  0,  0,  0,  0,  0, 56,  1,  1],\n",
              "       [ 0,  2,  0,  1,  0,  1,  0,  0, 49,  0],\n",
              "       [ 0,  0,  0,  0,  1,  0,  0,  0,  1, 58]])"
            ]
          },
          "metadata": {},
          "execution_count": 32
        }
      ]
    },
    {
      "cell_type": "code",
      "source": [
        "print(classification_report(y_test, y_pred))"
      ],
      "metadata": {
        "colab": {
          "base_uri": "https://localhost:8080/"
        },
        "id": "uOkWn4E141AL",
        "outputId": "d3e7cb64-845d-4f70-cf72-2b335b67dda4"
      },
      "execution_count": null,
      "outputs": [
        {
          "output_type": "stream",
          "name": "stdout",
          "text": [
            "              precision    recall  f1-score   support\n",
            "\n",
            "           0       1.00      0.98      0.99        52\n",
            "           1       0.94      1.00      0.97        51\n",
            "           2       1.00      1.00      1.00        54\n",
            "           3       0.98      1.00      0.99        41\n",
            "           4       0.96      0.98      0.97        56\n",
            "           5       0.98      1.00      0.99        53\n",
            "           6       1.00      0.98      0.99        62\n",
            "           7       1.00      0.97      0.98        58\n",
            "           8       0.96      0.92      0.94        53\n",
            "           9       0.97      0.97      0.97        60\n",
            "\n",
            "    accuracy                           0.98       540\n",
            "   macro avg       0.98      0.98      0.98       540\n",
            "weighted avg       0.98      0.98      0.98       540\n",
            "\n"
          ]
        }
      ]
    },
    {
      "cell_type": "code",
      "source": [],
      "metadata": {
        "id": "iCvFgKgu5CRX"
      },
      "execution_count": null,
      "outputs": []
    }
  ]
}